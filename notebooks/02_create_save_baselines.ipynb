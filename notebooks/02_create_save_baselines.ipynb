{
 "cells": [
  {
   "cell_type": "markdown",
   "id": "154dd1c1-3b71-4693-9c45-bfe01eb923c8",
   "metadata": {},
   "source": [
    "# Create Observational Baseline Datasets\n",
    "\n",
    "This notebook creates the raw variable datasets for HR-ERA5/IMERG, LR-ERA5/IMERG, and LR-ERA5/GPCP needed to calculate the precipitation-buoyancy POD."
   ]
  },
  {
   "cell_type": "markdown",
   "id": "33c439ff-5b19-40fc-a631-f32376698ec9",
   "metadata": {
    "jp-MarkdownHeadingCollapsed": true
   },
   "source": [
    "## Import Necessary Packages"
   ]
  },
  {
   "cell_type": "code",
   "execution_count": 1,
   "id": "e6c6a3e4-1ea1-46d8-9992-73f5cfeed3bd",
   "metadata": {},
   "outputs": [],
   "source": [
    "import xesmf\n",
    "import warnings\n",
    "import numpy as np\n",
    "import xarray as xr\n",
    "from datetime import datetime\n",
    "warnings.filterwarnings('ignore')"
   ]
  },
  {
   "cell_type": "markdown",
   "id": "8b059c45-6465-4d6c-ae63-525442ee01a1",
   "metadata": {
    "jp-MarkdownHeadingCollapsed": true
   },
   "source": [
    "## User-Defined Configurations"
   ]
  },
  {
   "cell_type": "markdown",
   "id": "86408f75-8618-4d10-bd9f-8c7db234a90c",
   "metadata": {},
   "source": [
    "Define the user's name/email, specify the directory where the variable data is, and set the directory where the baseline datasets will be saved."
   ]
  },
  {
   "cell_type": "code",
   "execution_count": 2,
   "id": "bdaff133-118e-44df-8747-a71e7d75b88d",
   "metadata": {},
   "outputs": [],
   "source": [
    "AUTHOR  = 'Savannah L. Ferretti'      \n",
    "EMAIL   = 'savannah.ferretti@uci.edu' \n",
    "FILEDIR = '/global/cfs/cdirs/m4334/sferrett/monsoon-pod/data/raw'\n",
    "SAVEDIR = '/global/cfs/cdirs/m4334/sferrett/monsoon-pod/data/interim'"
   ]
  },
  {
   "cell_type": "markdown",
   "id": "992863a8-aec4-4410-a340-9044234f6662",
   "metadata": {
    "jp-MarkdownHeadingCollapsed": true
   },
   "source": [
    "## Create Baseline Datasets"
   ]
  },
  {
   "cell_type": "markdown",
   "id": "dbb37fa4-f152-4124-9b0d-f0b5ef041f0e",
   "metadata": {},
   "source": [
    "Our three data sources (ERA5, IMERG V06, and GPCP) have different temporal frequencies and spatial resolutions. To create consistent, analysis-ready data, we apply the `format_var()` function to individual variables, which loads in the Xarray.DataArrays from `FILEDIR`, and regrids (using [xESMF](https://xesmf.readthedocs.io/en/stable/)) and temporally resamples as-needed. The `combine_vars()` function then combines the processed variables into a single, cohesive dataset."
   ]
  },
  {
   "cell_type": "code",
   "execution_count": 3,
   "id": "993454da-70e0-4555-b909-0c6641ab7fbc",
   "metadata": {},
   "outputs": [],
   "source": [
    "def load(filename,filedir=FILEDIR):\n",
    "    filepath = f'{FILEDIR}/{filename}'\n",
    "    ds = xr.open_dataarray(filepath)\n",
    "    return ds.load()\n",
    "\n",
    "def regrid(da,gridtarget):\n",
    "    if not isinstance(gridtarget,(xr.Dataset,xr.DataArray)):\n",
    "        raise TypeError(\"Input 'gridtarget' must be an Xarray.Dataset or Xarray.DataArray\")\n",
    "    regridder = xesmf.Regridder(da,gridtarget,method='bilinear')\n",
    "    return regridder(da,keep_attrs=True)\n",
    "  \n",
    "def resample(da,frequency,method):\n",
    "    if frequency not in ['H','D']:\n",
    "        raise ValueError(\"Frequency must be 'H' (hourly) or 'D' (daily)\")\n",
    "    da.coords['time'] = da.time.dt.floor(frequency) \n",
    "    if method=='mean':\n",
    "        return da.groupby('time').mean()\n",
    "    elif method=='first':\n",
    "        return da.groupby('time').first()\n",
    "    elif method=='last':\n",
    "        return da.groupby('time').last()\n",
    "    else:\n",
    "        raise ValueError(\"Method must be 'mean', 'first', or 'last'\")\n",
    "\n",
    "def format_var(filename,filedir=FILEDIR,gridtarget=None,frequency=None,method=None):\n",
    "    da = load(filename,filedir)\n",
    "    if gridtarget is not None:\n",
    "        da = regrid(da,gridtarget)\n",
    "    if frequency is not None and method is not None:\n",
    "        da = resample(da,frequency,method)\n",
    "    return da\n",
    "    \n",
    "def combine_vars(dalist,author=AUTHOR,email=EMAIL):\n",
    "    if not isinstance(dalist,list):\n",
    "        raise TypeError('Input must be a list of Xarray.DataArrays')\n",
    "    if not all(isinstance(da,xr.DataArray) for da in dalist):\n",
    "        raise TypeError('All elements in the input list must be Xarray.DataArrays')\n",
    "    ds = xr.merge(dalist)\n",
    "    ds.attrs = dict(history=f'Created on {datetime.today().strftime(\"%Y-%m-%d\")} by {author} ({email})')\n",
    "    print(f'Dataset Size: {ds.nbytes*1e-9:.2f} GB')\n",
    "    return ds"
   ]
  },
  {
   "cell_type": "markdown",
   "id": "aca17a5b-7689-408c-8fe6-cfbbda7cf483",
   "metadata": {
    "jp-MarkdownHeadingCollapsed": true
   },
   "source": [
    "### HR-ERA5/IMERG"
   ]
  },
  {
   "cell_type": "markdown",
   "id": "d3071f5f-ad98-41d1-8b49-454fa8c64ef2",
   "metadata": {},
   "source": [
    "Our HR-ERA5/IMERG dataset features hourly data on a 0.25° x 0.25° grid. We use ERA5 variables at their native resolution and adjust IMERG V06 precipitation to match, coarsening its grid and reducing its sampling frequency."
   ]
  },
  {
   "cell_type": "code",
   "execution_count": 6,
   "id": "f58b7964-c6c5-4e8b-85a7-17804febb935",
   "metadata": {},
   "outputs": [],
   "source": [
    "ps = format_var('ERA5_surface_pressure.nc')\n",
    "q  = format_var('ERA5_specific_humidity.nc')\n",
    "t  = format_var('ERA5_temperature.nc')\n",
    "imergpr = format_var('IMERG_precipitation_rate.nc',gridtarget=ps,frequency='H',method='first')"
   ]
  },
  {
   "cell_type": "code",
   "execution_count": 7,
   "id": "b444c9ad-327b-4a89-90d5-3bd69f904760",
   "metadata": {},
   "outputs": [
    {
     "name": "stdout",
     "output_type": "stream",
     "text": [
      "Dataset Size: 61.81 GB\n"
     ]
    }
   ],
   "source": [
    "hrimerg = combine_vars([imergpr,ps,q,t])"
   ]
  },
  {
   "cell_type": "markdown",
   "id": "9599368c-333b-4d5b-8794-0a87954b93ff",
   "metadata": {
    "jp-MarkdownHeadingCollapsed": true
   },
   "source": [
    "### LR-ERA5/GPCP"
   ]
  },
  {
   "cell_type": "markdown",
   "id": "35698187-6345-4ab6-a2af-16d31e52d5f7",
   "metadata": {},
   "source": [
    "Our LR-ERA5/GPCP dataset features daily mean data on a 1.0° x 1.0° grid. We use GPCP precipitation at its native resolution and adjust ERA5 variables to match, coarsening its grid and temporally averaging."
   ]
  },
  {
   "cell_type": "code",
   "execution_count": 4,
   "id": "3f280ac4-7ea3-4bfa-b209-dd6bb781454c",
   "metadata": {},
   "outputs": [],
   "source": [
    "gpcppr = format_var('GPCP_precipitation_rate.nc')\n",
    "ps = format_var('ERA5_surface_pressure.nc',gridtarget=gpcppr,frequency='D',method='mean')\n",
    "q  = format_var('ERA5_specific_humidity.nc',gridtarget=gpcppr,frequency='D',method='mean')\n",
    "t  = format_var('ERA5_temperature.nc',gridtarget=gpcppr,frequency='D',method='mean')"
   ]
  },
  {
   "cell_type": "code",
   "execution_count": 5,
   "id": "34aae01b-9111-432e-94c8-f457ac1c6da5",
   "metadata": {},
   "outputs": [
    {
     "name": "stdout",
     "output_type": "stream",
     "text": [
      "Dataset Size: 0.17 GB\n"
     ]
    }
   ],
   "source": [
    "lrgpcp = combine_vars([gpcppr,ps,q,t])"
   ]
  },
  {
   "cell_type": "markdown",
   "id": "f7f9f96c-662e-4ae1-90da-d97566a2a37a",
   "metadata": {
    "jp-MarkdownHeadingCollapsed": true
   },
   "source": [
    "### LR-ERA5/IMERG"
   ]
  },
  {
   "cell_type": "markdown",
   "id": "8514acaf-125b-4ca3-bfc0-e4f5f3c55515",
   "metadata": {},
   "source": [
    "We also generate a lower-resolution IMERG V06 dataset (LR-ERA5/IMERG) at the same frequency and spatial resolution of LR-ERA5/GPCP. We temporally average and coarsen the grid of ERA5 variables and IMERG V06 precipitation."
   ]
  },
  {
   "cell_type": "code",
   "execution_count": 9,
   "id": "38332f4b-6a8d-4d4c-9de1-3ac3e7813382",
   "metadata": {},
   "outputs": [],
   "source": [
    "ps = format_var('ERA5_surface_pressure.nc',gridtarget=gpcppr,frequency='D',method='mean')\n",
    "q  = format_var('ERA5_specific_humidity.nc',gridtarget=gpcppr,frequency='D',method='mean')\n",
    "t  = format_var('ERA5_temperature.nc',gridtarget=gpcppr,frequency='D',method='mean')\n",
    "imergpr = format_var('IMERG_precipitation_rate.nc',gridtarget=gpcppr,frequency='D',method='mean')"
   ]
  },
  {
   "cell_type": "code",
   "execution_count": 10,
   "id": "966633a2-b2ff-43c4-8689-c18b61ebef5e",
   "metadata": {},
   "outputs": [
    {
     "name": "stdout",
     "output_type": "stream",
     "text": [
      "Dataset Size: 0.17 GB\n"
     ]
    }
   ],
   "source": [
    "lrimerg = combine_vars([imergpr,ps,q,t])"
   ]
  },
  {
   "cell_type": "markdown",
   "id": "392f5848-6fe4-4f32-b1bd-b9809991c185",
   "metadata": {
    "jp-MarkdownHeadingCollapsed": true
   },
   "source": [
    "## Save Baseline Datasets"
   ]
  },
  {
   "cell_type": "markdown",
   "id": "a4fc68aa-3687-455c-bdc5-adbf87e4a8b5",
   "metadata": {},
   "source": [
    "Save each observational Xarray.Dataset as a netCDF file to `SAVEDIR`."
   ]
  },
  {
   "cell_type": "code",
   "execution_count": 11,
   "id": "372b8c2a-6588-472d-91c5-d3115910c58c",
   "metadata": {},
   "outputs": [],
   "source": [
    "def save(ds,filename,savedir=SAVEDIR):\n",
    "    filepath = f'{savedir}/{filename}'\n",
    "    ds.to_netcdf(filepath)"
   ]
  },
  {
   "cell_type": "code",
   "execution_count": 12,
   "id": "08c13d90-deaf-459a-81f3-2352afb0215b",
   "metadata": {},
   "outputs": [],
   "source": [
    "save(hrimerg,'HR_ERA5_IMERG_baseline.nc')\n",
    "save(lrimerg,'LR_ERA5_IMERG_baseline.nc')\n",
    "save(lrgpcp,'LR_ERA5_GPCP_baseline.nc')"
   ]
  }
 ],
 "metadata": {
  "kernelspec": {
   "display_name": "monsoon-pod",
   "language": "python",
   "name": "monsoon-pod"
  },
  "language_info": {
   "codemirror_mode": {
    "name": "ipython",
    "version": 3
   },
   "file_extension": ".py",
   "mimetype": "text/x-python",
   "name": "python",
   "nbconvert_exporter": "python",
   "pygments_lexer": "ipython3",
   "version": "3.9.12"
  }
 },
 "nbformat": 4,
 "nbformat_minor": 5
}
