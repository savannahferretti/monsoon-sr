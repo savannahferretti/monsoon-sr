{
 "cells": [
  {
   "cell_type": "markdown",
   "id": "3bbcce5b-96a2-4ed2-8dbd-f379f96050f9",
   "metadata": {},
   "source": [
    "# Calculate Precipitation-Buoyancy POD\n",
    "\n",
    "This notebook calculates the precipitation-buoyancy relationship POD as defined in [Ahmed and Neelin (2021)](https://agupubs.onlinelibrary.wiley.com/doi/full/10.1029/2021GL094108)."
   ]
  },
  {
   "cell_type": "markdown",
   "id": "ed14dd05-dcce-4ebc-b47f-219b15793719",
   "metadata": {
    "jp-MarkdownHeadingCollapsed": true,
    "tags": []
   },
   "source": [
    "## Import Necessary Packages"
   ]
  },
  {
   "cell_type": "code",
   "execution_count": 1,
   "id": "02fa890e-3ecf-49dc-ad60-c164d9505e60",
   "metadata": {},
   "outputs": [],
   "source": [
    "import warnings\n",
    "import numpy as np\n",
    "import xarray as xr\n",
    "from datetime import datetime\n",
    "warnings.filterwarnings('ignore')"
   ]
  },
  {
   "cell_type": "markdown",
   "id": "02204ee1-1fd0-44e4-bf46-627d4074aa3f",
   "metadata": {
    "jp-MarkdownHeadingCollapsed": true,
    "tags": []
   },
   "source": [
    "## User-Defined Configurations"
   ]
  },
  {
   "cell_type": "markdown",
   "id": "36b9be53-547a-40fb-b94c-d46ff673727c",
   "metadata": {},
   "source": [
    "Define the user's name/email, specify the directory where the observational datasets are, and set the directory where the P-$B_L$ datasets will be saved."
   ]
  },
  {
   "cell_type": "code",
   "execution_count": 2,
   "id": "cc6df809-2e34-48a0-b2dc-50b9b332e578",
   "metadata": {},
   "outputs": [],
   "source": [
    "AUTHOR  = 'Savannah L. Ferretti'\n",
    "EMAIL   = 'savannah.ferretti@uci.edu'\n",
    "FILEDIR = '/global/cfs/cdirs/m4334/sferrett/monsoon-pod/data/interim'\n",
    "SAVEDIR = '/global/cfs/cdirs/m4334/sferrett/monsoon-pod/data/processed'"
   ]
  },
  {
   "cell_type": "markdown",
   "id": "5c8297df-306d-4465-9c7f-5eb3a6d6cd2c",
   "metadata": {
    "jp-MarkdownHeadingCollapsed": true,
    "tags": []
   },
   "source": [
    "## Load Baseline Datasets"
   ]
  },
  {
   "cell_type": "markdown",
   "id": "d99162b3-f98e-4c17-ab11-9ad9ed798589",
   "metadata": {},
   "source": [
    "Load in the baseline datasets (from `FILEDIR`) which contain precipitation (mm/day), surface pressure ($p_s$, hPa), temperature ($T$, K), and specific humidity ($q$, kg/kg) data. Before loading, create a 4D pressure variable ($p$, hPa) using the `add_p_array()` function, based on the vertical levels of $T$ and $q$, and incorporate it into the dataset."
   ]
  },
  {
   "cell_type": "code",
   "execution_count": 3,
   "id": "958df7c0-f150-4181-ae73-69e7bb2a5b92",
   "metadata": {},
   "outputs": [],
   "source": [
    "def add_p_array(ds):\n",
    "    p = ds.lev.expand_dims({'time':ds.time,'lat':ds.lat,'lon':ds.lon}).transpose('lev','time','lat','lon')\n",
    "    p.name = 'p'\n",
    "    ds = ds.assign(p=p)\n",
    "    return ds\n",
    "\n",
    "def load(filename,filedir=FILEDIR):\n",
    "    filepath = f'{filedir}/{filename}'\n",
    "    ds = xr.open_dataset(filepath)\n",
    "    ds = add_p_array(ds)\n",
    "    return ds.load()"
   ]
  },
  {
   "cell_type": "code",
   "execution_count": 4,
   "id": "c079baed-6d6f-4aae-a593-8ad161269c6a",
   "metadata": {},
   "outputs": [],
   "source": [
    "hrimerg = load('HR_ERA5_IMERG_baseline.nc')\n",
    "lrimerg = load('LR_ERA5_IMERG_baseline.nc')\n",
    "lrgpcp  = load('LR_ERA5_GPCP_baseline.nc')"
   ]
  },
  {
   "cell_type": "markdown",
   "id": "c6b1a314-690e-479e-a824-ee861aec7d86",
   "metadata": {
    "jp-MarkdownHeadingCollapsed": true,
    "tags": []
   },
   "source": [
    "## Functions to Calculate $B_L$"
   ]
  },
  {
   "cell_type": "markdown",
   "id": "64764028-4b96-4374-be05-9908a5ce6676",
   "metadata": {
    "jp-MarkdownHeadingCollapsed": true,
    "tags": []
   },
   "source": [
    "### Calculate Equivalent Potential Temperature"
   ]
  },
  {
   "cell_type": "markdown",
   "id": "e7f4d471-6b84-4188-857b-c031a6010fbe",
   "metadata": {},
   "source": [
    "The `calc_thetae()` function calculates equivalent potential temperature ($\\theta_e$, K) following [Bolton (1980)](https://journals.ametsoc.org/view/journals/mwre/108/7/1520-0493_1980_108_1046_tcoept_2_0_co_2.xml?tab_body=pdf) Equation 43 (where $T_L$ is given by Equation 55):\n",
    "    \n",
    "$$ \\theta_e = T\\left(\\frac{1000}{p}\\right)^{0.2854\\left(1-0.28 \\times 10^{-3}r\\right)} \\times \\text{ exp}\\left[\\left(\\frac{3.376}{T_L}-0.00254\\right) \\times r\\left(1+0.81 \\times 10^{-3}r\\right)\\right]$$\n",
    "\n",
    "Saturated equivalent potential temperature ($\\theta^*_e$) is calculated by substituting $q$ for its saturated counterpart ($q_s$). The `calc_qs()` function calculates $q_s$ following Equation 4 from [Plymouth State Weather Center (2018)](https://vortex.plymouth.edu/~stmiller/stmiller_content/Publications/AtmosRH_Equations_Rev.pdf), where saturation vapor pressure ($e_s$, hPa) is calculated using the `calc_es()` function, following Equations 17 and 18 from [Kuang (2018)](https://journals.ametsoc.org/view/journals/apme/57/6/jamc-d-17-0334.1.xml)."
   ]
  },
  {
   "cell_type": "code",
   "execution_count": 6,
   "id": "1fc7f433-8d08-4615-a8ad-ed97caa08672",
   "metadata": {},
   "outputs": [],
   "source": [
    "def calc_es(t):\n",
    "    tc = t-273.15\n",
    "    eswat = np.exp(34.494-(4924.99/(tc+237.1)))/((tc+105.)**1.57)\n",
    "    esice = np.exp(43.494-(6545.8/(tc+278.)))/((tc+868.)**2.)\n",
    "    es = np.where(tc>0.,eswat,esice) \n",
    "    es = es/100. # Pa to hPa\n",
    "    return es\n",
    "\n",
    "def calc_qs(p,t):\n",
    "    rv = 461.50   \n",
    "    rd = 287.04    \n",
    "    es = calc_es(t) \n",
    "    epsilon = rd/rv\n",
    "    qs = (epsilon*es)/(p-es*(1.-epsilon))\n",
    "    return qs\n",
    "\n",
    "def calc_thetae(p,t,q):\n",
    "    p0 = 1000.  \n",
    "    rv = 461.5  \n",
    "    rd = 287.04\n",
    "    epsilon = rd/rv\n",
    "    r  = q/(1.-q) \n",
    "    e  = (t.lev*r)/(epsilon+r)\n",
    "    tl = 2840./(3.5*np.log(t)-np.log(e)-4.805)+55.\n",
    "    thetae = t*(p0/p)**(0.2854*(1.-0.28*r))*np.exp((3.376/tl-0.00254)*1000.*r*(1.+0.81*r))\n",
    "    return thetae"
   ]
  },
  {
   "cell_type": "markdown",
   "id": "b1ab8325-d946-483a-9006-340ab2129531",
   "metadata": {
    "jp-MarkdownHeadingCollapsed": true,
    "tags": []
   },
   "source": [
    "### Calculate Layer Averages"
   ]
  },
  {
   "cell_type": "markdown",
   "id": "d5066eba-1f50-4fb9-893b-99a330728b76",
   "metadata": {},
   "source": [
    "The boundary layer is defined as a 100 hPa thick layer above the surface, and the lower free-troposphere is defined as the layer extending from the top of the boundary layer to 500 hPa. Calculate the average $\\theta_e$ over the boundary layer ($\\theta_{eB}$) and lower free-troposphere ($\\theta_{eL}$),  as well as ${\\theta^*_e}$ over the lower-free troposphere (${\\theta^*_{eL}}$). The `get_p_above()` and `get_p_below()` functions find the upper and lower bounds of the specified atmospheric layer, respectively, and `calc_layer_average()` uses numerical integration to calculate the average within that layer."
   ]
  },
  {
   "cell_type": "code",
   "execution_count": 7,
   "id": "cf45c44f-5cf3-4ace-9873-66534bbb03b8",
   "metadata": {},
   "outputs": [],
   "source": [
    "def get_p_above(a,levels,side):\n",
    "    idx    = np.searchsorted(levels,a,side=side)\n",
    "    pabove = levels[np.maximum(idx-1,0)]\n",
    "    return pabove\n",
    "\n",
    "def get_p_below(a,levels,side):\n",
    "    idx    = np.searchsorted(levels,a,side=side)\n",
    "    pbelow = levels[np.minimum(idx,len(levels)-1)]\n",
    "    return pbelow\n",
    "\n",
    "def calc_layer_average(data,a,b):\n",
    "    a,b,data = a.load(),b.load(),data.load()\n",
    "    pabove = xr.apply_ufunc(get_p_above,a,kwargs={'levels':np.array(data.lev),'side':'right'})\n",
    "    pbelow = xr.apply_ufunc(get_p_below,a,kwargs={'levels':np.array(data.lev),'side':'right'})\n",
    "    fabove = data.sel({'lev':pabove})\n",
    "    fbelow = data.sel({'lev':pbelow})\n",
    "    correction = -fabove/2*(pbelow-pabove)*(a<data.lev[-1])\n",
    "    pbelow += (pbelow==pabove) \n",
    "    belowintegral = (a-pabove)*fabove+(fbelow-fabove)*(a-pabove)**2/(pbelow-pabove)/2+correction\n",
    "    innerintegral = (data*(data.lev<=a)*(data.lev>=b)).integrate('lev')\n",
    "    pabove = xr.apply_ufunc(get_p_above,b,kwargs={'levels':np.array(data.lev),'side':'left'})\n",
    "    pbelow = xr.apply_ufunc(get_p_below,b,kwargs={'levels':np.array(data.lev),'side':'left'})\n",
    "    fabove = data.sel({'lev':pabove})\n",
    "    fbelow = data.sel({'lev':pbelow})\n",
    "    correction = -fbelow/2*(pbelow-pabove)*(b>data.lev[0])\n",
    "    pabove -= (pbelow==pabove) \n",
    "    aboveintegral = (pbelow-b)*fabove+(fbelow-fabove)*(pbelow-pabove)*(1-((b-pabove)/(pbelow-pabove))**2)/2+correction\n",
    "    layeraverage  = (belowintegral+innerintegral+aboveintegral)/(a-b)\n",
    "    return layeraverage"
   ]
  },
  {
   "cell_type": "markdown",
   "id": "093a054d-c9af-41e0-b730-ab79cc3e80b3",
   "metadata": {
    "jp-MarkdownHeadingCollapsed": true,
    "tags": []
   },
   "source": [
    "### Calculate $B_L$"
   ]
  },
  {
   "cell_type": "markdown",
   "id": "7db95c2a-f68c-4d4e-bb9f-955929907812",
   "metadata": {},
   "source": [
    "The `calc_weights()` function calculates the weighted contributions of the boundary layer ($w_B$) and lower free-troposphere ($w_L$) following [Adames et al. (2021)](https://journals.ametsoc.org/view/journals/atsc/78/2/jas-d-20-0074.1.xml) Equations 5a and 5b:\n",
    "\n",
    "$$ w_B = \\frac{\\Delta p_B}{\\Delta p_L} \\ln{\\left(1 + \\frac{\\Delta p_L}{\\Delta p_B}\\right)} $$\n",
    "\n",
    "$$ w_L = 1 - w_B $$"
   ]
  },
  {
   "cell_type": "code",
   "execution_count": 8,
   "id": "e3c8b871-54b7-4fea-9d10-5cb2425583a9",
   "metadata": {},
   "outputs": [],
   "source": [
    "def calc_weights(ps,pbltop,lfttop):\n",
    "    pblthickness = ps-pbltop\n",
    "    lftthickness = pbltop-lfttop\n",
    "    wb = (pblthickness/lftthickness)*np.log((pblthickness+lftthickness)/pblthickness)\n",
    "    wl = 1-wb\n",
    "    return wb,wl"
   ]
  },
  {
   "cell_type": "markdown",
   "id": "707fd8ac-6015-44e0-86d5-07bc45427a06",
   "metadata": {},
   "source": [
    "The `calc_bl_terms()` function follows [Ahmed and Neelin (2021)](https://agupubs.onlinelibrary.wiley.com/doi/full/10.1029/2021GL094108) Equation 1, where the average buoyancy in the lower troposphere ($B_L$) is calculated as:\n",
    "\n",
    "$$ B_L = \\frac{g}{\\overline{\\kappa}_L\\theta_{e0}}\\left[w_B\\underbrace{\\left(\\frac{\\theta_{eB}-\\theta^{*}_{eL}}{\\theta^{*}_{eL}}\\right)\\theta_{e0}}_{\\mathrm{CAPE_L}} - w_L\\underbrace{\\left(\\frac{\\theta^{*}_{eL}-\\theta_{eL}}{\\theta^{*}_{eL}}\\right)\\theta_{e0}}_{\\mathrm{SUBSAT_L}}\\right] $$"
   ]
  },
  {
   "cell_type": "code",
   "execution_count": 9,
   "id": "900f860a-5c07-4e74-92b1-d092dce45893",
   "metadata": {},
   "outputs": [],
   "source": [
    "def calc_bl_terms(thetaeb,thetael,thetaels,wb,wl):\n",
    "    g       = 9.81\n",
    "    kappal  = 3.\n",
    "    thetae0 = 340.\n",
    "    cape    = ((thetaeb-thetaels)/thetaels)*thetae0\n",
    "    subsat  = ((thetaels-thetael)/thetaels)*thetae0\n",
    "    bl      = (g/(kappal*thetae0))*((wb*cape)-(wl*subsat))\n",
    "    return cape,subsat,bl"
   ]
  },
  {
   "cell_type": "markdown",
   "id": "bf9e4ddf-0e9b-4e2c-92c7-2b2c4119007b",
   "metadata": {},
   "source": [
    "We use the `create_dataset()` function to put all calculated variables into a singular Xarray.Dataset."
   ]
  },
  {
   "cell_type": "code",
   "execution_count": 10,
   "id": "b9a68a77-9b86-492b-8f0d-ddec5a98b951",
   "metadata": {},
   "outputs": [],
   "source": [
    "def create_dataset(wb,wl,cape,subsat,bl,pr,author=AUTHOR,email=EMAIL):\n",
    "    vardata = {'wb':([*wb.dims],wb.data),\n",
    "               'wl':([*wl.dims],wl.data),\n",
    "               'cape':([*cape.dims],cape.data),\n",
    "               'subsat':([*subsat.dims],subsat.data),\n",
    "               'bl':([*bl.dims],bl.data),\n",
    "               'pr':([*pr.dims],pr.data)}\n",
    "    coords  = {'time':pr.time.data,'lat':pr.lat.data,'lon':pr.lon.data}\n",
    "    ds = xr.Dataset(vardata,coords)\n",
    "    ds.wb.attrs     = dict(long_name='Fractional contribution of the boundary layer',units='0-1')\n",
    "    ds.wl.attrs     = dict(long_name='Fractional contribution of the lower free-troposphere',units='0-1')\n",
    "    ds.cape.attrs   = dict(long_name='Undilute plume buoyancy',units='K')\n",
    "    ds.subsat.attrs = dict(long_name='Subsaturation in the lower-free troposphere',units='K')\n",
    "    ds.bl.attrs     = dict(long_name='Average buoyancy in the lower troposphere',units='m/s²')\n",
    "    ds.pr.attrs     = dict(long_name='Precipitation rate',units='mm/day')\n",
    "    ds.time.attrs   = dict(long_name='Time')\n",
    "    ds.lat.attrs    = dict(long_name='Latitude',units='$^\\circ$N')\n",
    "    ds.lon.attrs    = dict(long_name='Longitude',units='$^\\circ$E')\n",
    "    ds.attrs        = dict(description='Calculated following Ahmed & Neelin (2021) Eq. 1',\n",
    "                           history=f'Created on {datetime.today().strftime(\"%Y-%m-%d\")} by {author} ({email})')\n",
    "    return ds"
   ]
  },
  {
   "cell_type": "markdown",
   "id": "30e81854-9a90-4662-85de-dfb864a346e3",
   "metadata": {
    "jp-MarkdownHeadingCollapsed": true,
    "tags": []
   },
   "source": [
    "## Execute $B_L$ Calculation"
   ]
  },
  {
   "cell_type": "markdown",
   "id": "ff12c741-0b92-4a51-a52f-3acf5b55e0f3",
   "metadata": {},
   "source": [
    "Since the analysis is quite compute-intensive (particularly for the high-resolution data), we execute the aforementioned workflow by year. The `process_by_year()` function creates the yearly P-$B_L$ datasets, and merges them into a single Xarray.Dataset."
   ]
  },
  {
   "cell_type": "code",
   "execution_count": 12,
   "id": "f9e77b5d-070e-43d6-8253-570f0e41062f",
   "metadata": {},
   "outputs": [],
   "source": [
    "def process_by_year(ds,author=AUTHOR,email=EMAIL):\n",
    "    dslist = []\n",
    "    for year in np.unique(ds.time.dt.year.values):\n",
    "        data     = ds.sel(time=ds.time.dt.year==year)\n",
    "        qs       = calc_qs(data.p,data.t)\n",
    "        thetae   = calc_thetae(data.p,data.t,data.q)\n",
    "        thetaes  = calc_thetae(data.p,data.t,qs)\n",
    "        pbltop   = data.ps-100.\n",
    "        lfttop   = xr.full_like(data.ps,500.) \n",
    "        thetaeb  = calc_layer_average(thetae,data.ps,pbltop)*np.sqrt(-1+2*(data.ps>lfttop))\n",
    "        thetael  = calc_layer_average(thetae,pbltop,lfttop)\n",
    "        thetaels = calc_layer_average(thetaes,pbltop,lfttop)\n",
    "        wb,wl    = calc_weights(data.ps,pbltop,lfttop)\n",
    "        blterms  = calc_bl_terms(thetaeb,thetael,thetaels,wb,wl)\n",
    "        newds    = create_dataset(wb,wl,blterms[0],blterms[1],blterms[2],data.pr,author,email)  \n",
    "        dslist.append(newds)\n",
    "    return xr.concat(dslist,dim='time')"
   ]
  },
  {
   "cell_type": "code",
   "execution_count": 18,
   "id": "3316b896-4731-4010-a0a2-ff168ecf41a1",
   "metadata": {},
   "outputs": [],
   "source": [
    "hrimergprbl = process_by_year(hrimerg)\n",
    "lrimergprbl = process_by_year(lrimerg)\n",
    "lrgpcpprbl  = process_by_year(lrgpcp)"
   ]
  },
  {
   "cell_type": "markdown",
   "id": "58d71906-0086-43ea-930f-5b1694a3c14c",
   "metadata": {
    "jp-MarkdownHeadingCollapsed": true
   },
   "source": [
    "## Save P-$B_L$ Datasets"
   ]
  },
  {
   "cell_type": "markdown",
   "id": "5857bc77-81ac-4b29-9aa3-af40b0e85790",
   "metadata": {},
   "source": [
    "Save each P-$B_L$ Xarray.Dataset as a netCDF file to `SAVEDIR`."
   ]
  },
  {
   "cell_type": "code",
   "execution_count": 20,
   "id": "814c4e16-15e2-48d2-b873-6091510990ba",
   "metadata": {},
   "outputs": [],
   "source": [
    "def save(ds,filename,savedir=SAVEDIR):\n",
    "    filepath = f'{savedir}/{filename}'\n",
    "    ds.to_netcdf(filepath)"
   ]
  },
  {
   "cell_type": "code",
   "execution_count": 22,
   "id": "e80cd613-45d1-4c94-b891-246b9ac99047",
   "metadata": {},
   "outputs": [],
   "source": [
    "save(hrimergprbl,'HR_ERA5_IMERG_pr_bl_terms.nc')\n",
    "save(lrimergprbl,'LR_ERA5_IMERG_pr_bl_terms.nc')\n",
    "save(lrgpcpprbl,'LR_ERA5_GPCP_pr_bl_terms.nc')"
   ]
  }
 ],
 "metadata": {
  "kernelspec": {
   "display_name": "monsoon-pod",
   "language": "python",
   "name": "monsoon-pod"
  },
  "language_info": {
   "codemirror_mode": {
    "name": "ipython",
    "version": 3
   },
   "file_extension": ".py",
   "mimetype": "text/x-python",
   "name": "python",
   "nbconvert_exporter": "python",
   "pygments_lexer": "ipython3",
   "version": "3.9.12"
  }
 },
 "nbformat": 4,
 "nbformat_minor": 5
}
