{
 "cells": [
  {
   "cell_type": "markdown",
   "id": "1786fcec-b7ec-4cc1-9c08-e23af21430a6",
   "metadata": {},
   "source": [
    "# Simple P-$B_L$ MLP\n",
    "\n",
    "A multi-layered perceptron (MLP) is a type of neural network that contains at least three layers: an input layer, one or more hidden layers, and an output layer. The first hidden layer takes inputs from the input layer, processes them using a *non-linear* activation function, and passes them to next hidden layer(s) until the output layer."
   ]
  },
  {
   "cell_type": "markdown",
   "id": "89cd0254-53a4-41ee-98e4-514cc904d36d",
   "metadata": {},
   "source": [
    "## Import Necessary Packages"
   ]
  },
  {
   "cell_type": "code",
   "execution_count": null,
   "id": "3ecbd92a-86f5-4c3b-bf38-8e9ce23d439b",
   "metadata": {},
   "outputs": [
    {
     "name": "stderr",
     "output_type": "stream",
     "text": [
      "/global/homes/s/sferrett/.conda/envs/monsoon-sr/lib/python3.10/site-packages/proplot/__init__.py:6: UserWarning: pkg_resources is deprecated as an API. See https://setuptools.pypa.io/en/latest/pkg_resources.html. The pkg_resources package is slated for removal as early as 2025-11-30. Refrain from using this package or pin to Setuptools<81.\n",
      "  import pkg_resources as pkg\n"
     ]
    }
   ],
   "source": [
    "import torch\n",
    "import warnings\n",
    "import numpy as np\n",
    "import xarray as xr\n",
    "import proplot as pplt\n",
    "from torch.utils.data import TensorDataset,DataLoader\n",
    "warnings.filterwarnings('ignore')"
   ]
  },
  {
   "cell_type": "markdown",
   "id": "a8f774df-8670-4981-a7c8-aea8ba680c39",
   "metadata": {},
   "source": [
    "## Load and Explore Data"
   ]
  },
  {
   "cell_type": "markdown",
   "id": "f7485c57-e5d5-417a-b696-baae87e08918",
   "metadata": {},
   "source": [
    "We will use an MLP for regression to predict $B_L$ from $\\mathrm{SUBSAT_L}$. We load in daily-mean $\\mathrm{SUBSAT_L}$ (K) and $B_L$ (m/s<sup>2</sup>) for Central India."
   ]
  },
  {
   "cell_type": "code",
   "execution_count": null,
   "id": "20abf834-0516-434e-837c-9d550f245e39",
   "metadata": {},
   "outputs": [],
   "source": [
    "file = '/global/cfs/cdirs/m4334/sferrett/monsoon-pod/data/processed/LR_ERA5_IMERG_pr_bl_terms.nc'\n",
    "data = xr.open_dataset(file)\n",
    "data = data.sel(lat=slice(18,24),lon=slice(76,83))\n",
    "\n",
    "x = data.subsat.load()\n",
    "y = data.bl.load()"
   ]
  },
  {
   "cell_type": "markdown",
   "id": "d58d4265-bb1e-435f-aa1a-c438b097f300",
   "metadata": {},
   "source": [
    "We can generate exploratory plots to better understand the distribution of the data, and the relationship between $\\mathrm{SUBSAT_L}$ and $B_L$."
   ]
  },
  {
   "cell_type": "code",
   "execution_count": null,
   "id": "8194bcd5-eb99-4484-9fc9-338362a9d8ff",
   "metadata": {},
   "outputs": [],
   "source": [
    "fig,axs = pplt.subplots(nrows=1,ncols=3,refwidth=2,share=False)\n",
    "axs[0].format(title='Histogram of $SUBSAT_L$',xlabel='$SUBSAT_L$ (K)',yscale='log',yformatter='log')\n",
    "axs[1].format(title='Histogram of $\\mathit{B_L}$',xlabel='$\\mathit{B_L}$ (m/s$^2$)',ylabel='Count',yscale='log',yformatter='log')\n",
    "axs[2].format(title='$SUBSAT_L$ vs. $\\mathit{B_L}$',xlabel='$SUBSAT_L$ (K)',ylabel='$\\mathit{B_L}$ (m/s$^2$)')\n",
    "axs[0].hist(x.values.flatten(),bins=50,filled=True,color='orange6',edgecolor='k',alpha=0.5)\n",
    "axs[1].hist(y.values.flatten(),bins=50,filled=True,color='green6',edgecolor='k',alpha=0.5)\n",
    "axs[2].scatter(x.values.flatten(),y.values.flatten(),color='red6',marker='.',markersize=10,alpha=0.2)\n",
    "pplt.show()"
   ]
  },
  {
   "cell_type": "markdown",
   "id": "c7332857-53ea-4a41-892d-bdca58233981",
   "metadata": {},
   "source": [
    "## Preprocess the Input and Target Data"
   ]
  },
  {
   "cell_type": "markdown",
   "id": "fc1f755c-583d-42cb-a78c-8f4929dedd3e",
   "metadata": {},
   "source": [
    "The `subset()` function allows us to temporally subset our input (*x*) and target (*y*) data by selecting specific years. It will later be used to divide our data into training, validation, and test sets. When dealing with temporal data, you must maintain temporal continuity within each set while ensuring no overlap between them. The splitting method should be carefully selected to ensure a high likelihood of consistent distribution shapes across all sets.\n",
    "\n",
    "The `array()` function reformats our subsetted data to make it compatible with PyTorch. It flattens our 3D Xarray.DataArrays (time × lat × lon) into 1D NumPy arrays. We maintain 64-bit precision during this conversion to ensure accuracy in subsequent processing steps."
   ]
  },
  {
   "cell_type": "code",
   "execution_count": 21,
   "id": "ca7eaed8-4e73-4adf-b382-a77b34f8aad8",
   "metadata": {},
   "outputs": [],
   "source": [
    "def subset(x,y,startyear,endyear):\n",
    "    years   = np.arange(startyear,endyear+1)\n",
    "    xsubset = x.sel(time=x['time.year'].isin(years))\n",
    "    ysubset = y.sel(time=y['time.year'].isin(years))\n",
    "    def array(xsubset,ysubset):\n",
    "        return xsubset.values.flatten().astype(np.float64),ysubset.values.flatten().astype(np.float64)\n",
    "    xarray,yarray = array(xsubset,ysubset)\n",
    "    return xarray,yarray"
   ]
  },
  {
   "cell_type": "markdown",
   "id": "cb65f906-f95e-444b-b20b-3aeb98d99c40",
   "metadata": {},
   "source": [
    "The `normalize()` function applies z-score normalization to our data, centering it around 0 with a standard deviation of 1. It calculates normalization parameters (the mean and standard deviation) if not provided. We typically derive these parameters from the training set and apply them to the training, validation, and test sets. This ensures that the model learns to generalize from the training data (mitigate overfitting)."
   ]
  },
  {
   "cell_type": "code",
   "execution_count": 22,
   "id": "5be07983-ce0a-4e93-9fe9-e0df9fbb76c9",
   "metadata": {},
   "outputs": [],
   "source": [
    "def normalize(array,mean=None,std=None):\n",
    "    if mean is None:\n",
    "        mean = np.mean(array)\n",
    "    if std is None:\n",
    "        std  = np.std(array)\n",
    "    return (array-mean)/std,mean,std"
   ]
  },
  {
   "cell_type": "markdown",
   "id": "1fba1c8c-434f-4f71-9cd6-8094e3b260d8",
   "metadata": {},
   "source": [
    "The `preprocess()` function streamlines our data preparation workflow, combining splitting, array conversion, and normalization steps for training, validation, and test sets. A key feature is the log transformation applied to the precipitation data, linearizing its exponential relationship with $B_L$. This transformation simplifies the MLP's task, allowing it to predict a linear relationship rather than an exponential one. Once the normalization is complete, it converts the NumPy arrays to PyTorch tensors."
   ]
  },
  {
   "cell_type": "code",
   "execution_count": 23,
   "id": "1a39afe9-9ea2-4a1e-b628-720bf60f362a",
   "metadata": {},
   "outputs": [],
   "source": [
    "def preprocess(x,y,trainyears,valyears,testyears,ylog=True):\n",
    "    # Split data into training, validation, and test sets\n",
    "    xtrainarray,ytrainarray = subset(x,y,trainyears[0],trainyears[1])\n",
    "    xvalarray,yvalarray     = subset(x,y,valyears[0],valyears[1])\n",
    "    xtestarray,ytestarray   = subset(x,y,testyears[0],testyears[1])\n",
    "    # Normalize using training parameters\n",
    "    xtrainnorm,xtrainmean,xtrainstd = normalize(xtrainarray)\n",
    "    xvalnorm,_,_  = normalize(xvalarray,xtrainmean,xtrainstd)\n",
    "    xtestnorm,_,_ = normalize(xtestarray,xtrainmean,xtrainstd)\n",
    "    if ylog:\n",
    "        ytrainarray = np.log1p(ytrainarray)\n",
    "        yvalarray   = np.log1p(yvalarray)\n",
    "        ytestarray  = np.log1p(ytrainarray)\n",
    "    ytrainnorm,ytrainmean,ytrainstd = normalize(ytrainarray)\n",
    "    yvalnorm,_,_  = normalize(yvalarray,ytrainmean,ytrainstd)\n",
    "    ytestnorm,_,_ = normalize(ytestarray,ytrainmean,ytrainstd)\n",
    "    # Convert to tensors\n",
    "    xtraintensor,ytraintensor = torch.FloatTensor(xtrainnorm),torch.FloatTensor(ytrainnorm)\n",
    "    xvaltensor,yvaltensor     = torch.FloatTensor(xvalnorm),torch.FloatTensor(yvalnorm)\n",
    "    xtesttensor,ytesttensor   = torch.FloatTensor(xtestnorm),torch.FloatTensor(ytestnorm)\n",
    "    return xtraintensor,ytraintensor,xvaltensor,yvaltensor,xtesttensor,ytesttensor"
   ]
  },
  {
   "cell_type": "markdown",
   "id": "63917539-27a2-4614-bcec-699a63e1364c",
   "metadata": {},
   "source": [
    "We will work with smaller timespans within our 21-year dataset. We allocate 6 years for training (2000-2005), 2 years for validation (2006-2007), and 2 years for testing (2008-2009)."
   ]
  },
  {
   "cell_type": "code",
   "execution_count": 24,
   "id": "ed81fbac-581d-42e9-8ccd-fa3334777933",
   "metadata": {},
   "outputs": [],
   "source": [
    "trainyears = (2000,2005)\n",
    "valyears   = (2006,2007)\n",
    "testyears  = (2008,2009)\n",
    "\n",
    "xtrain,ytrain,xval,yval,xtest,ytest = preprocess(x,y,trainyears,valyears,testyears,ylog=False)"
   ]
  },
  {
   "cell_type": "markdown",
   "id": "5c6ec38d-0c65-4cd0-ba4a-01aba3953be1",
   "metadata": {},
   "source": [
    "## Create Data Loaders"
   ]
  },
  {
   "cell_type": "markdown",
   "id": "747fd889-a84a-4981-a507-7bac709fdb10",
   "metadata": {},
   "source": [
    "Now that we have preprocessed the training, validation, and test sets, we create a custom class that inherits from PyTorch's `TensorDataset`. This class is tailored to handle our specific data structure, where each sample has a single input feature ($B_L$) and a single target value (precipitation). The class reshapes input and target tensors to ensure they have the shape (*n*<sub>samples</sub>, 1), where 1 represents the single feature for both input and target. This structure optimizes compatibility with PyTorch's DataLoader, an iterator designed to efficiently load data in batches."
   ]
  },
  {
   "cell_type": "code",
   "execution_count": 25,
   "id": "66ad07e1-5862-41a2-a462-64f6b3480460",
   "metadata": {},
   "outputs": [],
   "source": [
    "class DATASET(TensorDataset):\n",
    "    def __init__(self,xtensor,ytensor):\n",
    "        self.inputs  = xtensor.view(-1,1)\n",
    "        self.targets = ytensor.view(-1,1)\n",
    "    def __getitem__(self,index):\n",
    "        onex = self.inputs[index]\n",
    "        oney = self.targets[index]\n",
    "        return onex,oney\n",
    "    def __len__(self):\n",
    "        return self.targets.shape[0]"
   ]
  },
  {
   "cell_type": "code",
   "execution_count": 26,
   "id": "6afd5ca2-b484-4517-8a93-0c0c55e5491f",
   "metadata": {},
   "outputs": [],
   "source": [
    "traindataset = DATASET(xtrain,ytrain)\n",
    "valdataset   = DATASET(xval,yval)\n",
    "testdataset  = DATASET(xtest,ytest)"
   ]
  },
  {
   "cell_type": "code",
   "execution_count": 27,
   "id": "8ae98125-9db8-4b2e-ba46-46ec70c5159e",
   "metadata": {},
   "outputs": [
    {
     "name": "stdout",
     "output_type": "stream",
     "text": [
      "Batch Size: 966 (32 batches total)\n",
      "Batch Size: 736 (42 batches total)\n",
      "Batch Size: 672 (46 batches total)\n",
      "Batch Size: 644 (48 batches total)\n",
      "Batch Size: 552 (56 batches total)\n",
      "Batch Size: 483 (64 batches total)\n",
      "Batch Size: 448 (69 batches total)\n",
      "Batch Size: 368 (84 batches total)\n",
      "Batch Size: 336 (92 batches total)\n",
      "Batch Size: 322 (96 batches total)\n"
     ]
    }
   ],
   "source": [
    "def factors(n):\n",
    "    factors = []\n",
    "    for i in range(1,int(n**0.5)+1):\n",
    "        if n%i==0:\n",
    "            factors.append(i)\n",
    "            if i!=n//i:\n",
    "                factors.append(n//i)\n",
    "    for factor in factors:\n",
    "        if factor>=300 and factor<=1000:\n",
    "            print(f'Batch Size: {factor} ({n//factor} batches total)')\n",
    "\n",
    "factors(30912) # xtrain.shape\n",
    "# factors(10304) # xval.shape"
   ]
  },
  {
   "cell_type": "markdown",
   "id": "bb44ec89-76c1-4782-aee1-eec82c9505aa",
   "metadata": {},
   "source": [
    "Now we can use PyTorch’s `DataLoader` class to sample from our datasets. Processing data in batches is more memory-efficient and can lead to faster training. `BATCHSIZE`, a model hyperparameter (external parameter set before training begins, denoted by all-caps), determines the number of samples processed simultaneously. We create DataLoaders for both training and test sets. For the training set, we enable random shuffling. Shuffling at each epoch prevents the model from memorizing the order of the data, enhancing its ability to generalize. For the test set, we don't enable shuffling, since the order is not important for evaluation."
   ]
  },
  {
   "cell_type": "code",
   "execution_count": 28,
   "id": "7ff010ab-b265-4067-ae90-814720486c95",
   "metadata": {},
   "outputs": [],
   "source": [
    "BATCHSIZE   = [483,448] \n",
    "trainloader = DataLoader(dataset=traindataset,batch_size=BATCHSIZE[0],shuffle=True)\n",
    "valloader   = DataLoader(dataset=traindataset,batch_size=BATCHSIZE[1],shuffle=True)\n",
    "testloader  = DataLoader(dataset=testdataset,batch_size=BATCHSIZE[1],shuffle=False)"
   ]
  },
  {
   "cell_type": "markdown",
   "id": "7af73935-94ee-4485-8817-53fdc904cb19",
   "metadata": {},
   "source": [
    "## Define the Model"
   ]
  },
  {
   "cell_type": "markdown",
   "id": "c3ecab70-6614-4f0a-9a77-b813c9a55fc1",
   "metadata": {},
   "source": [
    "We define our MLP architecture by creating a class that inherits from PyTorch's `nn.Module`, the base class for all neural network modules in PyTorch. The `__init__()` constructor defines the network's structure, and the `forward()` method specifies how the input data passes through the network.\n",
    "\n",
    "In the network below, input data passes through the first linear layer, then through ReLU activation, repeats this process for the hidden layer, and again for the output layer. Activation functions introduce non-linearity into the model. Without them, the network would just be a complex linear function, incapable of learning non-linear relationships. We chose ReLU specifically because it only allows non-negative values, which aligns well with our goal of predicting (non-negative) precipitation values."
   ]
  },
  {
   "cell_type": "code",
   "execution_count": 59,
   "id": "c8363603-e464-463c-b76c-2fdc4ed37465",
   "metadata": {},
   "outputs": [],
   "source": [
    "class MLP(torch.nn.Module):\n",
    "    def __init__(self,inputsize,hiddensize,outputsize,activation):\n",
    "        super(MLP,self).__init__()                  # Initialize the nn.Module superclass   \n",
    "        self.activation = activation()\n",
    "        self.layers = torch.nn.Sequential(\n",
    "            torch.nn.Linear(inputsize,hiddensize),  # Input layer to first hidden layer\n",
    "            self.activation,\n",
    "            torch.nn.Linear(hiddensize,hiddensize), \n",
    "            self.activation,\n",
    "            torch.nn.Linear(hiddensize,hiddensize), # First hidden layer to second hidden layer\n",
    "            self.activation,\n",
    "            torch.nn.Linear(hiddensize,outputsize), # Second hidden layer to output layer\n",
    "        )\n",
    "    def forward(self,x):\n",
    "        logits = self.layers(x)\n",
    "        return logits"
   ]
  },
  {
   "cell_type": "markdown",
   "id": "9eb09a57-123d-4033-a3e9-6ace1fa2db95",
   "metadata": {},
   "source": [
    "## Model Initialization"
   ]
  },
  {
   "cell_type": "markdown",
   "id": "0f1c06ef-b489-4e60-a4d3-c21c35cc3ac6",
   "metadata": {},
   "source": [
    "We now set the remaining hyperparameters for our model. `INPUTSIZE` and `OUTPUTSIZE` are both set to 1, reflecting our single input feature ($B_L$) and single output feature (log-transformed precipitation). `HIDDENSIZE` defines the number of neurons in each hidden layer. These hyperparameters are used to initialize our MLP model."
   ]
  },
  {
   "cell_type": "code",
   "execution_count": 72,
   "id": "4c2ece0d-391a-4033-bb92-5f81be0f6529",
   "metadata": {},
   "outputs": [
    {
     "name": "stdout",
     "output_type": "stream",
     "text": [
      "MLP(\n",
      "  (activation): Softmax(dim=None)\n",
      "  (layers): Sequential(\n",
      "    (0): Linear(in_features=1, out_features=64, bias=True)\n",
      "    (1): Softmax(dim=None)\n",
      "    (2): Linear(in_features=64, out_features=64, bias=True)\n",
      "    (3): Softmax(dim=None)\n",
      "    (4): Linear(in_features=64, out_features=64, bias=True)\n",
      "    (5): Softmax(dim=None)\n",
      "    (6): Linear(in_features=64, out_features=1, bias=True)\n",
      "  )\n",
      ")\n"
     ]
    }
   ],
   "source": [
    "INPUTSIZE  = 1\n",
    "OUTPUTSIZE = 1\n",
    "HIDDENSIZE = 64\n",
    "\n",
    "model = MLP(INPUTSIZE,HIDDENSIZE,OUTPUTSIZE,activation=torch.nn.Softmax)\n",
    "print(model)"
   ]
  },
  {
   "cell_type": "markdown",
   "id": "aeb4c624-5edd-46ab-89e4-8ab087485313",
   "metadata": {},
   "source": [
    "We can find out the number of trainable parameters for our model. Trainable paramaters are paramaters that are updated during training (where `required_grad=True`)."
   ]
  },
  {
   "cell_type": "code",
   "execution_count": 73,
   "id": "cede85d0-a036-4c09-b742-e3219baca327",
   "metadata": {},
   "outputs": [
    {
     "name": "stdout",
     "output_type": "stream",
     "text": [
      "Number of trainable parameters: 8513\n"
     ]
    }
   ],
   "source": [
    "nparams = sum(p.numel() for p in model.parameters() if p.requires_grad)\n",
    "print('Number of trainable parameters:', nparams)"
   ]
  },
  {
   "cell_type": "markdown",
   "id": "a652cb8c-f23e-427d-8d78-a3bf69a0d9d7",
   "metadata": {},
   "source": [
    "## Train the Model"
   ]
  },
  {
   "cell_type": "markdown",
   "id": "195458a0-c3ec-46b7-938a-b56329deab57",
   "metadata": {},
   "source": [
    "We configure the training process by setting up the loss function (`CRITERION`) and `OPTIMIZER`. For regression tasks like ours, MSE is an appropriate loss function. We choose the Adam optimizer for its adaptive learning rate capabilities. `LEARNING` determines the learning rate, or step size for weight updates during training. You want this value to balance rapid convergence (higher values) and stability (lower values). The optimizer is initialized with the model's parameters and the specified learning rate."
   ]
  },
  {
   "cell_type": "code",
   "execution_count": 74,
   "id": "4cb55218-fa14-4acd-8e7d-f7e45c8ca449",
   "metadata": {},
   "outputs": [],
   "source": [
    "CRITERION = torch.nn.MSELoss()\n",
    "LEARNING  = 0.005\n",
    "OPTIMIZER = torch.optim.Adam(model.parameters(),lr=LEARNING)"
   ]
  },
  {
   "cell_type": "markdown",
   "id": "66ad3760-c1c6-49a2-bc0a-d8ffe5922a1c",
   "metadata": {},
   "source": [
    "The `train()` function implements the training loop for our model. It iterates through the specified number of epochs, processing batches of data from the trainloader in each epoch. For each batch, it performs a forward pass through the model (i.e., makes predictions), calculates the loss, and then uses backpropagation to compute gradients and update the model's weights. \n",
    "The function tracks \n",
    "The function tracks the running loss for each epoch, calculates the average loss per epoch, and stores these values for monitoring training progress. It also prints the loss after each epoch, providing real-time feedback on the model's performance. Finally, it returns a list of training losses, which can be used to visualize the model's learning curve over time.\n",
    "\n",
    "\n",
    "We now establish the training loop. We specify the number of times we iterate over the entire dataset. For each iteration, we go through all of our data once. The inner loop iterates over a batch of input and output (target) data provided by the DataLoader. For each batch, we create predictions, calculate the loss, and use backpropagation to optimize the model's parameters. We print a progress update on the loss every 10 epochs."
   ]
  },
  {
   "cell_type": "code",
   "execution_count": 75,
   "id": "44a4afd9-8c75-4016-b080-eb2fd69a2881",
   "metadata": {},
   "outputs": [],
   "source": [
    "def train(model,dataloader,criterion,optimizer):\n",
    "    model.train()\n",
    "    runningloss = 0.0\n",
    "    for inputs,targets in dataloader:\n",
    "        optimizer.zero_grad()\n",
    "        outputs = model(inputs)\n",
    "        loss    = criterion(outputs,targets)\n",
    "        loss.backward()\n",
    "        optimizer.step()\n",
    "        runningloss += loss.item()*inputs.size(0)\n",
    "    return runningloss/len(dataloader.dataset)\n",
    "\n",
    "def evaluate(model,dataloader,criterion):\n",
    "    model.eval()\n",
    "    runningloss = 0.0\n",
    "    with torch.no_grad():\n",
    "        for inputs,targets in dataloader:\n",
    "            outputs = model(inputs)\n",
    "            loss    = criterion(outputs,targets)\n",
    "            runningloss += loss.item()*inputs.size(0)\n",
    "    return runningloss/len(dataloader.dataset)"
   ]
  },
  {
   "cell_type": "code",
   "execution_count": 76,
   "id": "6dadb264-0956-4fa5-a4cb-fe2d40e851ee",
   "metadata": {},
   "outputs": [
    {
     "name": "stdout",
     "output_type": "stream",
     "text": [
      "Epoch 1/20, Train Loss: 0.9986, Val Loss: 0.9896\n",
      "Epoch 2/20, Train Loss: 0.8624, Val Loss: 0.6349\n",
      "Epoch 3/20, Train Loss: 0.4579, Val Loss: 0.3409\n",
      "Epoch 4/20, Train Loss: 0.2849, Val Loss: 0.2323\n",
      "Epoch 5/20, Train Loss: 0.1795, Val Loss: 0.1313\n",
      "Epoch 6/20, Train Loss: 0.1049, Val Loss: 0.0865\n",
      "Epoch 7/20, Train Loss: 0.0744, Val Loss: 0.0655\n",
      "Epoch 8/20, Train Loss: 0.0605, Val Loss: 0.0564\n",
      "Epoch 9/20, Train Loss: 0.0544, Val Loss: 0.0525\n",
      "Epoch 10/20, Train Loss: 0.0518, Val Loss: 0.0510\n",
      "Epoch 11/20, Train Loss: 0.0504, Val Loss: 0.0497\n",
      "Epoch 12/20, Train Loss: 0.0493, Val Loss: 0.0488\n",
      "Epoch 13/20, Train Loss: 0.0490, Val Loss: 0.0492\n",
      "Epoch 14/20, Train Loss: 0.0485, Val Loss: 0.0482\n",
      "Epoch 15/20, Train Loss: 0.0484, Val Loss: 0.0481\n",
      "Epoch 16/20, Train Loss: 0.0482, Val Loss: 0.0480\n",
      "Epoch 17/20, Train Loss: 0.0485, Val Loss: 0.0486\n",
      "Epoch 18/20, Train Loss: 0.0483, Val Loss: 0.0480\n",
      "Epoch 19/20, Train Loss: 0.0481, Val Loss: 0.0479\n",
      "Epoch 20/20, Train Loss: 0.0480, Val Loss: 0.0487\n"
     ]
    }
   ],
   "source": [
    "NEPOCHS = 20\n",
    "\n",
    "trainlosses = []\n",
    "vallosses   = []\n",
    "for epoch in range(NEPOCHS):\n",
    "    epochtrainloss = train(model,trainloader,CRITERION,OPTIMIZER)\n",
    "    epochvalloss   = evaluate(model,valloader,CRITERION)\n",
    "    trainlosses.append(epochtrainloss)\n",
    "    vallosses.append(epochvalloss)\n",
    "    # if (epoch+1)%10==0:\n",
    "    print(f'Epoch {epoch+1}/{NEPOCHS}, Train Loss: {epochtrainloss:.4f}, Val Loss: {epochvalloss:.4f}')"
   ]
  },
  {
   "cell_type": "code",
   "execution_count": 81,
   "id": "819a792b-e743-434c-808c-6f0ecc469765",
   "metadata": {},
   "outputs": [
    {
     "data": {
      "text/plain": [
       "<matplotlib.legend.Legend at 0x7f6b3873eaa0>"
      ]
     },
     "execution_count": 81,
     "metadata": {},
     "output_type": "execute_result"
    },
    {
     "data": {
      "image/png": "[encoded data removed]",
      "text/plain": [
       "Figure(nrows=1, ncols=1, refwidth=5.0, refheight=2.0)"
      ]
     },
     "metadata": {
      "image/png": {
       "height": 254,
       "width": 555
      }
     },
     "output_type": "display_data"
    }
   ],
   "source": [
    "fig,ax = pplt.subplots(nrows=1,ncols=1,refwidth=5,refheight=2)\n",
    "ax.format(xlabel='Epoch',xticks=5,ylabel='Loss',ylim=(0,1))\n",
    "ax.plot(trainlosses,label='Training Loss')\n",
    "ax.plot(vallosses,label='Validation Loss')\n",
    "ax.legend(loc='ur',ncols=1)"
   ]
  },
  {
   "cell_type": "markdown",
   "id": "44db29a7-ea04-4e63-88f3-b4cb7fd58717",
   "metadata": {},
   "source": [
    "## Evaluate the Model"
   ]
  },
  {
   "cell_type": "markdown",
   "id": "07313e0d-bb91-49ac-bc9e-b17c167d40d5",
   "metadata": {},
   "source": [
    "After training, you can evaluate your model on test data. We set the mdoel to evaluate \"mode\". We disable gradient calculation (which saves memory and speeds up computation, then pass all of our input data through the model at once to get predictions. We convert the predicted results back into an Xarray.DataArray."
   ]
  },
  {
   "cell_type": "code",
   "execution_count": 46,
   "id": "092ba25e-572e-495a-a265-587691999f4d",
   "metadata": {},
   "outputs": [],
   "source": [
    "model.eval()\n",
    "with torch.no_grad():\n",
    "    ypredtensor = model(xtensor)\n",
    "predpr = xr.DataArray(ypredtensor.numpy().reshape(pr.shape),dims=pr.dims,coords=pr.coords)"
   ]
  },
  {
   "cell_type": "code",
   "execution_count": null,
   "id": "80698cbb-a4dc-4e8c-8346-512aa0246270",
   "metadata": {},
   "outputs": [],
   "source": [
    "# Actual vs. predicted P\n",
    "# Look at how fast validation and trinfg loss decreases\n",
    "# Looking at bias (avg actual - predicted P), couldbe a map of time series"
   ]
  },
  {
   "cell_type": "code",
   "execution_count": null,
   "id": "ecd8e85c-d5ea-4486-a3b9-8dbb697f453d",
   "metadata": {},
   "outputs": [],
   "source": []
  },
  {
   "cell_type": "code",
   "execution_count": null,
   "id": "f076b6c9-9fca-4665-9e12-e80767d4b2be",
   "metadata": {},
   "outputs": [],
   "source": []
  },
  {
   "cell_type": "code",
   "execution_count": 113,
   "id": "a3e67077-bece-4837-bd6d-decc072b3fa3",
   "metadata": {},
   "outputs": [],
   "source": [
    "# def denormalize_predictions(ypred,normparams):\n",
    "#     ydenorm = ypred*normparams['ystd']+normparams['ymean']\n",
    "#     return np.expm1(ydenorm) if normparams['ylog'] else ydenorm"
   ]
  },
  {
   "cell_type": "code",
   "execution_count": null,
   "id": "d82f9fb8-e9a0-44bd-b5cd-68d19525a47c",
   "metadata": {},
   "outputs": [],
   "source": []
  }
 ],
 "metadata": {
  "kernelspec": {
   "display_name": "monsoon-sr",
   "language": "python",
   "name": "monsoon-sr"
  },
  "language_info": {
   "codemirror_mode": {
    "name": "ipython",
    "version": 3
   },
   "file_extension": ".py",
   "mimetype": "text/x-python",
   "name": "python",
   "nbconvert_exporter": "python",
   "pygments_lexer": "ipython3",
   "version": "3.10.18"
  }
 },
 "nbformat": 4,
 "nbformat_minor": 5
}
