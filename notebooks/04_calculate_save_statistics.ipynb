{
 "cells": [
  {
   "cell_type": "markdown",
   "id": "d067b0a9-924e-4624-90a2-46ffef7deeca",
   "metadata": {},
   "source": [
    "# Aggregate Regional and Monthly Statistics\n",
    "\n",
    "This notebook aggregates statistics for both 1-D ($B_L$) and 2-D (joint $\\text{SUBSAT}_\\text{L}$-$\\text{CAPE}_\\text{L}$) binning schemes."
   ]
  },
  {
   "cell_type": "markdown",
   "id": "226886d6-cdbe-415e-898e-f66abb69d406",
   "metadata": {
    "jp-MarkdownHeadingCollapsed": true,
    "tags": []
   },
   "source": [
    "## Import Necessary Packages"
   ]
  },
  {
   "cell_type": "code",
   "execution_count": 1,
   "id": "fba6191d-0e3a-4d06-9b20-b2cf5967515b",
   "metadata": {},
   "outputs": [],
   "source": [
    "import warnings\n",
    "import numpy as np\n",
    "import xarray as xr\n",
    "from numba import jit\n",
    "from datetime import datetime\n",
    "warnings.filterwarnings('ignore')"
   ]
  },
  {
   "cell_type": "markdown",
   "id": "94938f29-9b96-4c40-bb8b-aeaf73ccba81",
   "metadata": {
    "jp-MarkdownHeadingCollapsed": true,
    "tags": []
   },
   "source": [
    "## User-Defined Configurations"
   ]
  },
  {
   "cell_type": "markdown",
   "id": "0c55d701-041e-441e-a114-6c27d272ad5d",
   "metadata": {},
   "source": [
    "Define the user's name/email, specify the directory where the P-$B_L$ datasets are, and set the directory where the binned statistics datasets will be saved. Define regions of interest with their respective latitude/longitude bounds, and set binning parameters for $B_L$/$\\mathrm{CAPE_L}$/$\\mathrm{SUBSAT_L}$, along with the precipitation threhsold (in mm/day) distinguishing precipitating from non-precipitating regimes."
   ]
  },
  {
   "cell_type": "code",
   "execution_count": 2,
   "id": "6bd25cf9-38d2-46d6-954b-c5a4f6af9549",
   "metadata": {},
   "outputs": [],
   "source": [
    "AUTHOR     = 'Savannah L. Ferretti'\n",
    "EMAIL      = 'savannah.ferretti@uci.edu'\n",
    "FILEDIR    = '/global/cfs/cdirs/m4334/sferrett/monsoon-pod/data/processed'\n",
    "SAVEDIR    = '/global/cfs/cdirs/m4334/sferrett/monsoon-pod/data/processed'\n",
    "REGIONS    = {'Eastern Arabian Sea':{'latmin':9.,'latmax':19.5,'lonmin':64.,'lonmax':72.}, \n",
    "              'Central India':{'latmin':18.,'latmax':24.,'lonmin':76.,'lonmax':83.},\n",
    "              'Central Bay of Bengal':{'latmin':9.,'latmax':14.5,'lonmin':86.5,'lonmax':90.},\n",
    "              'Equatorial Indian Ocean':{'latmin':5.,'latmax':10.,'lonmin':62.,'lonmax':67.5},\n",
    "              'Konkan Coast':{'latmin':15.,'latmax':19.5,'lonmin':69.,'lonmax':72.5}} \n",
    "BINPARAMS  = {'bl':{'min':-0.6,'max':0.1,'width':0.0025},\n",
    "              'cape':{'min':-70.,'max':20.,'width':1.},\n",
    "              'subsat':{'min':-20.,'max':70.,'width':1.}}\n",
    "PRTHRESH   = 0.25"
   ]
  },
  {
   "cell_type": "markdown",
   "id": "8bbb26ec-9516-4c04-a897-7aafcecd41ef",
   "metadata": {
    "jp-MarkdownHeadingCollapsed": true
   },
   "source": [
    "## Load $P$-$B_L$ Datasets"
   ]
  },
  {
   "cell_type": "markdown",
   "id": "e00426ff-ed3d-40e0-b377-10ef9904024d",
   "metadata": {},
   "source": [
    "Load in all three P-$B_L$ datasets from `FILEDIR`."
   ]
  },
  {
   "cell_type": "code",
   "execution_count": 7,
   "id": "25380384-32cd-4692-a567-20b3bf859307",
   "metadata": {},
   "outputs": [],
   "source": [
    "def load(filename,filedir=FILEDIR):\n",
    "    filepath = f'{filedir}/{filename}'\n",
    "    ds = xr.open_dataset(filepath)\n",
    "    return ds.load()"
   ]
  },
  {
   "cell_type": "code",
   "execution_count": 8,
   "id": "80200483-2b09-4594-b919-9c0cec66b150",
   "metadata": {},
   "outputs": [],
   "source": [
    "hrimergprbl = load('HR_ERA5_IMERG_pr_bl_terms.nc')\n",
    "lrimergprbl = load('LR_ERA5_IMERG_pr_bl_terms.nc')\n",
    "lrgpcpprbl  = load('LR_ERA5_GPCP_pr_bl_terms.nc')"
   ]
  },
  {
   "cell_type": "markdown",
   "id": "376d43bf-fbef-4813-9665-0aca319985ff",
   "metadata": {
    "jp-MarkdownHeadingCollapsed": true,
    "tags": []
   },
   "source": [
    "## Functions for Calculating Binned Statistics"
   ]
  },
  {
   "cell_type": "markdown",
   "id": "181598cd-79d2-4d35-9a94-b71ab1588e80",
   "metadata": {},
   "source": [
    "The `get_region()` and `get_month()` functions subset a given P-$B_L$ dataset by the the region and month(s) of interest, respectively."
   ]
  },
  {
   "cell_type": "code",
   "execution_count": 6,
   "id": "b7503959-3a72-443b-8c8f-127883c2160c",
   "metadata": {},
   "outputs": [],
   "source": [
    "def get_region(data,key,regions=REGIONS):\n",
    "    region = regions[key]\n",
    "    return data.sel(lat=slice(region['latmin'],region['latmax']),lon=slice(region['lonmin'],region['lonmax']))\n",
    "\n",
    "def get_month(data,months):\n",
    "    if not isinstance(months,(list,tuple)):\n",
    "        months = [months]\n",
    "    monthmask = data.time.dt.month.isin(months)\n",
    "    return data.sel(time=monthmask)"
   ]
  },
  {
   "cell_type": "markdown",
   "id": "6cba22c7-8c08-463d-8131-55e2c24c991c",
   "metadata": {},
   "source": [
    "The `calc_binned_stats()` function performs statistical analysis using the 1-D ($B_L$), 2-D (joint $\\mathrm{SUBSAT_L}$-$\\mathrm{CAPE_L}$), or both binning schemes, as specificed by the `bintype` parameter. For each bin in the scheme(s), it calculates three statistics: the total count of data points (Q0 for 1-D, P0 for 2-D), the count of data points exceeding `PRTHRESH` (QE for 1-D, PE for 2-D), and the sum of precipitation values (Q1 for 1-D and P1 for 2-D). To optimize performance, the function utilizes [Numba's just-in-time](https://numba.readthedocs.io/en/stable/user/jit.html) compilation. The resulting statistics are then structured and stored in an Xarray.Dataset."
   ]
  },
  {
   "cell_type": "code",
   "execution_count": 25,
   "id": "298a00af-3cc0-45a5-b4b5-9ebad59cc274",
   "metadata": {},
   "outputs": [],
   "source": [
    "def get_bin_edges(key,binparams=BINPARAMS):\n",
    "    varname  = binparams[key]\n",
    "    return np.arange(varname['min'],varname['max']+varname['width'],varname['width'])\n",
    "     \n",
    "@jit(nopython=True)\n",
    "def fast_1D_binned_stats(blidxs,prdata,nblbins,prthresh=PRTHRESH):\n",
    "    Q0 = np.zeros(nblbins)\n",
    "    QE = np.zeros(nblbins)\n",
    "    Q1 = np.zeros(nblbins)\n",
    "    for i in range(prdata.size):\n",
    "        blidx = blidxs.flat[i]\n",
    "        prval = prdata.flat[i]\n",
    "        if 0<=blidx<nblbins and np.isfinite(prval):\n",
    "            Q0[blidx] += 1\n",
    "            Q1[blidx] += prval\n",
    "            if prval>prthresh:\n",
    "                QE[blidx] += 1\n",
    "    return Q0,QE,Q1\n",
    "\n",
    "@jit(nopython=True)\n",
    "def fast_2D_binned_stats(capeidxs,subsatidxs,prdata,ncapebins,nsubsatbins,prthresh=PRTHRESH):\n",
    "    P0 = np.zeros((nsubsatbins,ncapebins))\n",
    "    PE = np.zeros((nsubsatbins,ncapebins))\n",
    "    P1 = np.zeros((nsubsatbins,ncapebins))\n",
    "    for i in range(prdata.size):\n",
    "        capeidx = capeidxs.flat[i]\n",
    "        subsatidx = subsatidxs.flat[i]\n",
    "        prval = prdata.flat[i]\n",
    "        if 0<=subsatidx<nsubsatbins and 0<=capeidx<ncapebins and np.isfinite(prval):\n",
    "            P0[subsatidx,capeidx] += 1\n",
    "            P1[subsatidx,capeidx] += prval\n",
    "            if prval>prthresh:\n",
    "                PE[subsatidx,capeidx] += 1\n",
    "    return P0,PE,P1\n",
    "\n",
    "def calc_binned_stats(data,bintype,binparams=BINPARAMS,prthresh=PRTHRESH,author=AUTHOR,email=EMAIL):\n",
    "    if bintype not in ['1D','2D','both']:\n",
    "        raise ValueError(\"Bin type must be '1D', '2D', or 'both'\")\n",
    "    ds = xr.Dataset()\n",
    "    if bintype in ['1D','both']:\n",
    "        blbins = get_bin_edges('bl',binparams)\n",
    "        blidxs = ((data.bl.values-binparams['bl']['min'])/binparams['bl']['width']+0.5).astype(np.int32)\n",
    "        Q0,QE,Q1 = fast_1D_binned_stats(blidxs,data.pr.values,blbins.size,prthresh)\n",
    "        ds['Q0'] = ('bl',Q0)\n",
    "        ds['QE'] = ('bl',QE)\n",
    "        ds['Q1'] = ('bl',Q1)\n",
    "        ds['bl'] = blbins\n",
    "        ds.Q0.attrs = dict(long_name='Count of points in each bin')\n",
    "        ds.QE.attrs = dict(long_name=f'Count of precipitating ( > {prthresh} mm/day) points in each bin')\n",
    "        ds.Q1.attrs = dict(long_name='Sum of precipitation in each bin', units='mm/day')\n",
    "        ds.bl.attrs = dict(long_name='Average buoyancy in the lower troposphere', units='m/s²')\n",
    "    if bintype in ['2D','both']:\n",
    "        capebins   = get_bin_edges('cape',binparams)\n",
    "        subsatbins = get_bin_edges('subsat',binparams)\n",
    "        capeidxs   = ((data.cape.values-binparams['cape']['min'])/binparams['cape']['width']-0.5).astype(np.int32)\n",
    "        subsatidxs = ((data.subsat.values-binparams['subsat']['min'])/binparams['subsat']['width']-0.5).astype(np.int32)\n",
    "        P0,PE,P1 = fast_2D_binned_stats(capeidxs,subsatidxs,data.pr.values,capebins.size,subsatbins.size,prthresh)\n",
    "        ds['P0']     = (('subsat','cape'),P0)\n",
    "        ds['PE']     = (('subsat','cape'),PE)\n",
    "        ds['P1']     = (('subsat','cape'),P1)\n",
    "        ds['cape']   = capebins\n",
    "        ds['subsat'] = subsatbins\n",
    "        ds.P0.attrs     = dict(long_name='Count of points in each bin')\n",
    "        ds.PE.attrs     = dict(long_name=f'Count of precipitating ( > {prthresh} mm/day) points in each bin')\n",
    "        ds.P1.attrs     = dict(long_name='Sum of precipitation in each bin', units='mm/day')\n",
    "        ds.cape.attrs   = dict(long_name='Undilute plume buoyancy', units='K')\n",
    "        ds.subsat.attrs = dict(long_name='Subsaturation in the lower free-troposphere', units='K')\n",
    "    ds.attrs = dict(history=f'Created on {datetime.today().strftime(\"%Y-%m-%d\")} by {author} ({email})')\n",
    "    return ds"
   ]
  },
  {
   "cell_type": "markdown",
   "id": "9d8e0096-a94b-4bcf-87d8-2bc42c086aad",
   "metadata": {
    "jp-MarkdownHeadingCollapsed": true
   },
   "source": [
    "## Execute Binned Statistics Calculation"
   ]
  },
  {
   "cell_type": "markdown",
   "id": "fd9c700d-8b26-4334-9279-4b87d99623bf",
   "metadata": {},
   "source": [
    "We execute the aforementioned workflow by region. The `process_by_region()` function creates monthy binned statistics datasets (for both 1-D and 2-D schemes), aggregates them by region, and merges them into a single Xarray.Dataset."
   ]
  },
  {
   "cell_type": "code",
   "execution_count": 26,
   "id": "8ff0af06-521b-4026-a5d1-a98f1656f6ef",
   "metadata": {},
   "outputs": [],
   "source": [
    "def process_by_region(ds,regions=REGIONS,binparams=BINPARAMS=prthresh=PRTHRESH,author=AUTHOR,email=EMAIL):\n",
    "    regionstatslist = []\n",
    "    for region in regions:\n",
    "        regiondata     = get_region(ds,region,regions)\n",
    "        monthstatslist = []\n",
    "        for month in np.unique(ds.time.dt.month.values):\n",
    "            monthdata  = get_month(regiondata,month)\n",
    "            monthstats = calc_binned_stats(monthdata,'both',binparams,prthresh,author,email)\n",
    "            monthstatslist.append(monthstats.expand_dims({'month':[month]}))\n",
    "        regionstats = xr.concat(monthstatslist,dim='month')\n",
    "        regionstatslist.append(regionstats.expand_dims({'region':[region]}))\n",
    "    return xr.concat(regionstatslist,dim='region')"
   ]
  },
  {
   "cell_type": "code",
   "execution_count": 28,
   "id": "c8708258-ef32-4787-9ff7-1035ce977cf2",
   "metadata": {},
   "outputs": [],
   "source": [
    "hrimergstats = process_by_region(hrimergprbl)\n",
    "lrimergstats = process_by_region(lrimergprbl)\n",
    "lrgpcpstats  = process_by_region(lrgpcpprbl)"
   ]
  },
  {
   "cell_type": "markdown",
   "id": "96f914fa-69eb-4aed-9ac1-90fd80ab8188",
   "metadata": {
    "jp-MarkdownHeadingCollapsed": true,
    "tags": []
   },
   "source": [
    "## Save Statistics Datasets"
   ]
  },
  {
   "cell_type": "markdown",
   "id": "b3606d20-20cf-422e-a22b-81fcf661be4b",
   "metadata": {},
   "source": [
    "Save each binned statistics dataset a netCDF file to `SAVEDIR`."
   ]
  },
  {
   "cell_type": "code",
   "execution_count": 29,
   "id": "3761f6f8-7d1d-4daa-9ac8-68ef204946b5",
   "metadata": {},
   "outputs": [],
   "source": [
    "def save(ds,filename,savedir=SAVEDIR):\n",
    "    filepath = f'{savedir}/{filename}'\n",
    "    ds.to_netcdf(filepath)"
   ]
  },
  {
   "cell_type": "code",
   "execution_count": 30,
   "id": "8097609f-f081-49ec-a886-88cd4b666171",
   "metadata": {},
   "outputs": [],
   "source": [
    "save(hrimergstats,'HR_ERA5_IMERG_binned_stats.nc')\n",
    "save(lrimergstats,'LR_ERA5_IMERG_binned_stats.nc')\n",
    "save(lrgpcpstats,'LR_ERA5_GPCP_binned_stats.nc')"
   ]
  }
 ],
 "metadata": {
  "kernelspec": {
   "display_name": "monsoon-pod",
   "language": "python",
   "name": "monsoon-pod"
  },
  "language_info": {
   "codemirror_mode": {
    "name": "ipython",
    "version": 3
   },
   "file_extension": ".py",
   "mimetype": "text/x-python",
   "name": "python",
   "nbconvert_exporter": "python",
   "pygments_lexer": "ipython3",
   "version": "3.9.12"
  }
 },
 "nbformat": 4,
 "nbformat_minor": 5
}
